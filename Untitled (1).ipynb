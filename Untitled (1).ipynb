{
 "cells": [
  {
   "cell_type": "markdown",
   "id": "f873f02a-1f2a-425c-b6a9-c0213cba2fde",
   "metadata": {},
   "source": [
    "## Q1. Create a python program to sort the given list of tuples based on integer value using a lambda function.\n",
    "[('Sachin Tendulkar', 34357), ('Ricky Ponting', 27483), ('Jack Kallis', 25534), ('Virat Kohli', 24936)]"
   ]
  },
  {
   "cell_type": "code",
   "execution_count": null,
   "id": "7bc0840d-e69e-416a-b65e-165b2a757e3d",
   "metadata": {},
   "outputs": [],
   "source": [
    "# Given list of tuples\n",
    "list_of_tuples = [('Sachin Tendulkar', 34357), ('Ricky Ponting', 27483), ('Jack Kallis', 25534), ('Virat Kohli', 24936)]\n"
   ]
  },
  {
   "cell_type": "code",
   "execution_count": null,
   "id": "2d8c9b1b-aba2-4797-ad55-38feaee6021f",
   "metadata": {},
   "outputs": [],
   "source": [
    "sorted_list = sorted(list_of_tuples, key=lambda x: x[0])\n"
   ]
  },
  {
   "cell_type": "code",
   "execution_count": null,
   "id": "8bab0eb0-21d7-4af5-a556-514e8fc3216e",
   "metadata": {},
   "outputs": [],
   "source": [
    "print(\"Sorted List of Tuples based on Integer Value:\")\n",
    "print(sorted_list)\n",
    "\n",
    "Sorted List of Tuples based on Integer Value:\n",
    "[('Sachin Tendulkar', 34357), ('Ricky Ponting', 27483), ('Jack Kallis', 25534), ('Virat Kohli', 24936)]"
   ]
  },
  {
   "cell_type": "markdown",
   "id": "1c3b31f2-010b-4c76-b036-c131509e8cae",
   "metadata": {},
   "source": [
    "## Q2. Write a Python Program to find the squares of all the numbers in the given list of integers using lambda and map functions.\n",
    "[1, 2, 3, 4, 5, 6, 7, 8, 9, 10]"
   ]
  },
  {
   "cell_type": "code",
   "execution_count": 5,
   "id": "45de7536-1176-48b5-b497-6395cd0df9d5",
   "metadata": {},
   "outputs": [],
   "source": [
    "Given list of integers\n",
    "numbers = [1, 2, 3, 4, 5, 6, 7, 8, 9, 10]\n",
    "\n"
   ]
  },
  {
   "cell_type": "code",
   "execution_count": null,
   "id": "7bf44ac3-da4e-47cc-8c62-19306b301872",
   "metadata": {},
   "outputs": [],
   "source": [
    "\n",
    "squares = list(map(lambda x: x**2, numbers))\n"
   ]
  },
  {
   "cell_type": "markdown",
   "id": "91b0d6ed-d5be-4514-9b61-0d5b70903a0b",
   "metadata": {},
   "source": [
    "Squares of numbers in the list:\n",
    "[1, 4, 9, 16, 25, 36, 49, 64, 81, 100]\n"
   ]
  },
  {
   "cell_type": "markdown",
   "id": "d0060c36-2f8d-4cc3-a8ae-0e05b3123888",
   "metadata": {},
   "source": [
    "## Q3.Write a python program to convert the given list of integers into a tuple of strings. Use map and\n",
    "lambda functions\n",
    "Given String: [1, 2, 3, 4, 5, 6, 7, 8, 9, 10]\n",
    "Expected output: ('1', '2', '3', '4', '5', '6', '7', '8', '9', '10')"
   ]
  },
  {
   "cell_type": "code",
   "execution_count": null,
   "id": "8c13fae3-810a-4c92-baa6-1508920613bf",
   "metadata": {},
   "outputs": [],
   "source": [
    "Given list of integers\n",
    "numbers = [1, 2, 3, 4, 5, 6, 7, 8, 9, 10]\n",
    "\n",
    " tuple_of_strings = tuple(map(lambda x: str(x), numbers))\n",
    "    \n",
    "    print(\"Tuple of strings from the given list of integers:\")\n",
    "print(tuple_of_strings)\n",
    "\n",
    "Tuple of strings from the given list of integers:\n",
    "('1', '2', '3', '4', '5', '6', '7', '8', '9', '10')"
   ]
  },
  {
   "cell_type": "markdown",
   "id": "205bdc42-596e-4aec-8795-2566d113f5b9",
   "metadata": {},
   "source": [
    "## Q4.Write a python program using reduce function to compute the product of a list containing numbers\n",
    "from 1 to 25."
   ]
  },
  {
   "cell_type": "code",
   "execution_count": null,
   "id": "dfb689b1-3af3-413c-af60-da538b653344",
   "metadata": {},
   "outputs": [],
   "source": [
    "# Use reduce function to compute the product of the list\n",
    "product = reduce(multiply, numbers)\n",
    "# Display the product\n",
    "print(\"Product of numbers from 1 to 25:\", product)\n",
    "Product of numbers from 1 to 25: 15511210043330985984000000"
   ]
  },
  {
   "cell_type": "markdown",
   "id": "cb67a4db-767c-41c0-b795-afa9b800b38f",
   "metadata": {},
   "source": [
    "## Q5. Write a python program to filter the numbers in a given list that are divisible by 2 and 3 using the\n",
    "filter function."
   ]
  },
  {
   "cell_type": "markdown",
   "id": "3b0b051a-7d26-44c3-a5e8-368fdfd6991a",
   "metadata": {},
   "source": [
    "# Given list of numbers\n",
    "numbers = [1, 2, 3, 4, 5, 6, 7, 8, 9, 10, 11, 12]\n",
    "\n",
    "# Use filter function to filter numbers divisible by both 2 and 3\n",
    "filtered_numbers = list(filter(lambda x: x % 2 == 0 and x % 3 == 0, numbers))\n",
    "\n",
    "# Display the filtered numbers\n",
    "print(\"Numbers divisible by both 2 and 3:\", filtered_numbers)\n",
    "\n",
    "Numbers divisible by both 2 and 3: [6, 12]\n",
    "\n"
   ]
  },
  {
   "cell_type": "markdown",
   "id": "6363a4ff-6b38-4ec3-8e5b-a2ae200addbf",
   "metadata": {},
   "source": [
    "## Q6. Write a python program to find palindromes in the given list of strings using lambda and filter\n",
    "function.\n",
    "['python', 'php', 'aba', 'radar', 'level']"
   ]
  },
  {
   "cell_type": "code",
   "execution_count": null,
   "id": "b7ba1699-c7de-447f-850c-bfc1164e3ead",
   "metadata": {},
   "outputs": [],
   "source": [
    "Given list of strings\n",
    "strings = ['python', 'php', 'aba', 'radar', 'level']\n",
    "\n",
    "Use filter function with lambda to filter palindromes\n",
    "palindromes = list(filter(lambda x: x == x[::-1], strings))\n",
    "\n",
    "Display the palindromes\n",
    "print(\"Palindromes in the given list of strings:\", palindromes)\n",
    "\n",
    "Palindromes in the given list of strings: ['aba', 'radar', 'level']"
   ]
  }
 ],
 "metadata": {
  "kernelspec": {
   "display_name": "Python 3 (ipykernel)",
   "language": "python",
   "name": "python3"
  },
  "language_info": {
   "codemirror_mode": {
    "name": "ipython",
    "version": 3
   },
   "file_extension": ".py",
   "mimetype": "text/x-python",
   "name": "python",
   "nbconvert_exporter": "python",
   "pygments_lexer": "ipython3",
   "version": "3.10.8"
  }
 },
 "nbformat": 4,
 "nbformat_minor": 5
}
